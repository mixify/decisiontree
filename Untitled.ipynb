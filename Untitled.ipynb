{
 "cells": [
  {
   "cell_type": "code",
   "execution_count": 1,
   "metadata": {},
   "outputs": [],
   "source": [
    "import numpy as np\n",
    "import pandas as pd\n",
    "from sklearn.model_selection import train_test_split"
   ]
  },
  {
   "cell_type": "code",
   "execution_count": 2,
   "metadata": {},
   "outputs": [],
   "source": [
    "df = pd.read_csv('DATASET/Dataset1_sampling1.csv')"
   ]
  },
  {
   "cell_type": "code",
   "execution_count": 3,
   "metadata": {},
   "outputs": [
    {
     "data": {
      "text/html": [
       "<div>\n",
       "<style scoped>\n",
       "    .dataframe tbody tr th:only-of-type {\n",
       "        vertical-align: middle;\n",
       "    }\n",
       "\n",
       "    .dataframe tbody tr th {\n",
       "        vertical-align: top;\n",
       "    }\n",
       "\n",
       "    .dataframe thead th {\n",
       "        text-align: right;\n",
       "    }\n",
       "</style>\n",
       "<table border=\"1\" class=\"dataframe\">\n",
       "  <thead>\n",
       "    <tr style=\"text-align: right;\">\n",
       "      <th></th>\n",
       "      <th>X1</th>\n",
       "      <th>X2</th>\n",
       "      <th>X3</th>\n",
       "      <th>X4</th>\n",
       "      <th>X5</th>\n",
       "      <th>X6</th>\n",
       "      <th>X7</th>\n",
       "      <th>X8</th>\n",
       "      <th>X9</th>\n",
       "      <th>X10</th>\n",
       "      <th>...</th>\n",
       "      <th>X15</th>\n",
       "      <th>X16</th>\n",
       "      <th>X17</th>\n",
       "      <th>X18</th>\n",
       "      <th>X19</th>\n",
       "      <th>X20</th>\n",
       "      <th>X21</th>\n",
       "      <th>X22</th>\n",
       "      <th>X23</th>\n",
       "      <th>Y</th>\n",
       "    </tr>\n",
       "  </thead>\n",
       "  <tbody>\n",
       "    <tr>\n",
       "      <th>0</th>\n",
       "      <td>0.074407</td>\n",
       "      <td>-0.269193</td>\n",
       "      <td>-0.052829</td>\n",
       "      <td>0.770774</td>\n",
       "      <td>3.362509</td>\n",
       "      <td>42.775921</td>\n",
       "      <td>0.419401</td>\n",
       "      <td>0.423768</td>\n",
       "      <td>0.580599</td>\n",
       "      <td>0.350048</td>\n",
       "      <td>...</td>\n",
       "      <td>0.194481</td>\n",
       "      <td>0.281137</td>\n",
       "      <td>0.072960</td>\n",
       "      <td>0.073720</td>\n",
       "      <td>0.105470</td>\n",
       "      <td>0.098274</td>\n",
       "      <td>0.234321</td>\n",
       "      <td>0.030330</td>\n",
       "      <td>0.691764</td>\n",
       "      <td>0</td>\n",
       "    </tr>\n",
       "    <tr>\n",
       "      <th>1</th>\n",
       "      <td>0.010167</td>\n",
       "      <td>-0.933235</td>\n",
       "      <td>-0.026735</td>\n",
       "      <td>0.916332</td>\n",
       "      <td>10.951995</td>\n",
       "      <td>66.159285</td>\n",
       "      <td>0.343357</td>\n",
       "      <td>8.099461</td>\n",
       "      <td>0.656643</td>\n",
       "      <td>3.528441</td>\n",
       "      <td>...</td>\n",
       "      <td>0.082757</td>\n",
       "      <td>0.898730</td>\n",
       "      <td>0.193777</td>\n",
       "      <td>4.571020</td>\n",
       "      <td>2.104407</td>\n",
       "      <td>0.042909</td>\n",
       "      <td>0.124968</td>\n",
       "      <td>0.016495</td>\n",
       "      <td>0.092082</td>\n",
       "      <td>0</td>\n",
       "    </tr>\n",
       "    <tr>\n",
       "      <th>2</th>\n",
       "      <td>0.086957</td>\n",
       "      <td>-0.220942</td>\n",
       "      <td>-0.296801</td>\n",
       "      <td>0.553308</td>\n",
       "      <td>1.238679</td>\n",
       "      <td>9.589050</td>\n",
       "      <td>0.341361</td>\n",
       "      <td>2.841104</td>\n",
       "      <td>0.658639</td>\n",
       "      <td>1.556053</td>\n",
       "      <td>...</td>\n",
       "      <td>0.173400</td>\n",
       "      <td>0.352730</td>\n",
       "      <td>0.154400</td>\n",
       "      <td>1.285050</td>\n",
       "      <td>0.314080</td>\n",
       "      <td>0.003863</td>\n",
       "      <td>0.011315</td>\n",
       "      <td>0.188477</td>\n",
       "      <td>0.491594</td>\n",
       "      <td>0</td>\n",
       "    </tr>\n",
       "    <tr>\n",
       "      <th>3</th>\n",
       "      <td>0.056402</td>\n",
       "      <td>-0.057970</td>\n",
       "      <td>2.255823</td>\n",
       "      <td>0.541292</td>\n",
       "      <td>1.180038</td>\n",
       "      <td>3.686684</td>\n",
       "      <td>0.369210</td>\n",
       "      <td>1.371242</td>\n",
       "      <td>0.630790</td>\n",
       "      <td>0.374923</td>\n",
       "      <td>...</td>\n",
       "      <td>0.041756</td>\n",
       "      <td>0.060539</td>\n",
       "      <td>0.268261</td>\n",
       "      <td>0.996318</td>\n",
       "      <td>0.388931</td>\n",
       "      <td>0.014429</td>\n",
       "      <td>0.039081</td>\n",
       "      <td>0.501109</td>\n",
       "      <td>0.689738</td>\n",
       "      <td>0</td>\n",
       "    </tr>\n",
       "    <tr>\n",
       "      <th>4</th>\n",
       "      <td>0.058935</td>\n",
       "      <td>-0.805226</td>\n",
       "      <td>-0.108648</td>\n",
       "      <td>0.531917</td>\n",
       "      <td>1.136375</td>\n",
       "      <td>7.882046</td>\n",
       "      <td>0.560156</td>\n",
       "      <td>8.505336</td>\n",
       "      <td>0.439844</td>\n",
       "      <td>5.374813</td>\n",
       "      <td>...</td>\n",
       "      <td>0.048443</td>\n",
       "      <td>0.191917</td>\n",
       "      <td>0.206174</td>\n",
       "      <td>3.130523</td>\n",
       "      <td>0.816796</td>\n",
       "      <td>0.201411</td>\n",
       "      <td>0.359562</td>\n",
       "      <td>0.238516</td>\n",
       "      <td>0.252418</td>\n",
       "      <td>0</td>\n",
       "    </tr>\n",
       "  </tbody>\n",
       "</table>\n",
       "<p>5 rows × 24 columns</p>\n",
       "</div>"
      ],
      "text/plain": [
       "         X1        X2        X3        X4         X5         X6        X7  \\\n",
       "0  0.074407 -0.269193 -0.052829  0.770774   3.362509  42.775921  0.419401   \n",
       "1  0.010167 -0.933235 -0.026735  0.916332  10.951995  66.159285  0.343357   \n",
       "2  0.086957 -0.220942 -0.296801  0.553308   1.238679   9.589050  0.341361   \n",
       "3  0.056402 -0.057970  2.255823  0.541292   1.180038   3.686684  0.369210   \n",
       "4  0.058935 -0.805226 -0.108648  0.531917   1.136375   7.882046  0.560156   \n",
       "\n",
       "         X8        X9       X10  ...       X15       X16       X17       X18  \\\n",
       "0  0.423768  0.580599  0.350048  ...  0.194481  0.281137  0.072960  0.073720   \n",
       "1  8.099461  0.656643  3.528441  ...  0.082757  0.898730  0.193777  4.571020   \n",
       "2  2.841104  0.658639  1.556053  ...  0.173400  0.352730  0.154400  1.285050   \n",
       "3  1.371242  0.630790  0.374923  ...  0.041756  0.060539  0.268261  0.996318   \n",
       "4  8.505336  0.439844  5.374813  ...  0.048443  0.191917  0.206174  3.130523   \n",
       "\n",
       "        X19       X20       X21       X22       X23  Y  \n",
       "0  0.105470  0.098274  0.234321  0.030330  0.691764  0  \n",
       "1  2.104407  0.042909  0.124968  0.016495  0.092082  0  \n",
       "2  0.314080  0.003863  0.011315  0.188477  0.491594  0  \n",
       "3  0.388931  0.014429  0.039081  0.501109  0.689738  0  \n",
       "4  0.816796  0.201411  0.359562  0.238516  0.252418  0  \n",
       "\n",
       "[5 rows x 24 columns]"
      ]
     },
     "execution_count": 3,
     "metadata": {},
     "output_type": "execute_result"
    }
   ],
   "source": [
    "df.head()"
   ]
  },
  {
   "cell_type": "code",
   "execution_count": 4,
   "metadata": {},
   "outputs": [
    {
     "data": {
      "text/plain": [
       "(2686, 24)"
      ]
     },
     "execution_count": 4,
     "metadata": {},
     "output_type": "execute_result"
    }
   ],
   "source": [
    "df.shape"
   ]
  },
  {
   "cell_type": "code",
   "execution_count": 5,
   "metadata": {},
   "outputs": [],
   "source": [
    "X = df.iloc[:,:-2]\n",
    "Y = df['Y']"
   ]
  },
  {
   "cell_type": "code",
   "execution_count": null,
   "metadata": {},
   "outputs": [],
   "source": []
  },
  {
   "cell_type": "code",
   "execution_count": 6,
   "metadata": {},
   "outputs": [],
   "source": [
    "X_train, X_test, Y_train, Y_test = train_test_split(X,Y, random_state=1)\n",
    "X_train, X_val, Y_train, Y_val = train_test_split(X_train, Y_train, test_size=0.2, random_state=1)"
   ]
  },
  {
   "cell_type": "code",
   "execution_count": 7,
   "metadata": {},
   "outputs": [],
   "source": [
    "def split_train_dataset(X_train, Y_train, N):\n",
    "    num = len(Y_train)\n",
    "    \n",
    "#     div = num%N == 0 and num//N or num//N + 1 \n",
    "    div = num//N\n",
    "    \n",
    "    X_list = []\n",
    "    Y_list = []\n",
    "    for i in range(N):\n",
    "        if(i == N-1):\n",
    "            X_list.append(X_train[i*div:])\n",
    "            Y_list.append(Y_train[i*div:])\n",
    "        else:\n",
    "            X_list.append(X_train[i*div:(i+1)*div])\n",
    "            Y_list.append(Y_train[i*div:(i+1)*div])\n",
    "    return X_list, Y_list\n",
    "    "
   ]
  },
  {
   "cell_type": "code",
   "execution_count": 8,
   "metadata": {},
   "outputs": [],
   "source": [
    "from sklearn import tree\n",
    "from sklearn.metrics import accuracy_score"
   ]
  },
  {
   "cell_type": "code",
   "execution_count": 28,
   "metadata": {},
   "outputs": [],
   "source": [
    "X_list, Y_list = split_train_dataset(X_train, Y_train, 69)"
   ]
  },
  {
   "cell_type": "code",
   "execution_count": 29,
   "metadata": {},
   "outputs": [
    {
     "name": "stdout",
     "output_type": "stream",
     "text": [
      "50\n",
      "100\n",
      "150\n",
      "200\n",
      "250\n",
      "300\n",
      "350\n",
      "400\n",
      "450\n",
      "500\n"
     ]
    }
   ],
   "source": [
    "tree_dic = {}\n",
    "# for n in range(3,60):\n",
    "for n in range(3,501):\n",
    "    X_list, Y_list = split_train_dataset(X_train, Y_train, n)\n",
    "    s = 0\n",
    "    best_acc = 0\n",
    "    best_clf = None\n",
    "    for X,Y in zip(X_list, Y_list):\n",
    "        clf = tree.DecisionTreeClassifier()\n",
    "        clf.fit(X,Y)\n",
    "        pred = clf.predict(X_val)\n",
    "        acc = accuracy_score(Y_val,pred)\n",
    "        if(acc > best_acc):\n",
    "            best_acc = acc\n",
    "            best_clf = clf\n",
    "    tree_dic[n] = (best_clf,best_acc)\n",
    "    if(n%50 == 0):\n",
    "        print(n)\n"
   ]
  },
  {
   "cell_type": "code",
   "execution_count": 30,
   "metadata": {},
   "outputs": [],
   "source": [
    "best_n = 0\n",
    "best_acc = 0\n",
    "best_clf = None\n",
    "for key, val in tree_dic.items():\n",
    "    clf = val[0]\n",
    "    pred = clf.predict(X_test)\n",
    "    test_score = accuracy_score(Y_test,pred)\n",
    "    if(test_score > best_acc):\n",
    "        best_n = key\n",
    "        best_acc = val[1]\n",
    "        best_clf = clf\n",
    "    "
   ]
  },
  {
   "cell_type": "code",
   "execution_count": 31,
   "metadata": {},
   "outputs": [
    {
     "name": "stdout",
     "output_type": "stream",
     "text": [
      "DecisionTreeClassifier(class_weight=None, criterion='gini', max_depth=None,\n",
      "                       max_features=None, max_leaf_nodes=None,\n",
      "                       min_impurity_decrease=0.0, min_impurity_split=None,\n",
      "                       min_samples_leaf=1, min_samples_split=2,\n",
      "                       min_weight_fraction_leaf=0.0, presort=False,\n",
      "                       random_state=None, splitter='best')\n"
     ]
    }
   ],
   "source": [
    "print(best_clf)\n"
   ]
  },
  {
   "cell_type": "code",
   "execution_count": 50,
   "metadata": {},
   "outputs": [],
   "source": [
    "def get_rules(tree, feature_names):\n",
    "        left      = tree.tree_.children_left\n",
    "        right     = tree.tree_.children_right\n",
    "        threshold = tree.tree_.threshold\n",
    "        features  = [feature_names[i] for i in tree.tree_.feature]\n",
    "        print(features)\n",
    "        value = tree.tree_.value\n",
    "\n",
    "        def recurse(left, right, threshold, features, node):\n",
    "                if (threshold[node] != -2):\n",
    "                        print(\"if ( \" + features[node] + \" <= \" + str(threshold[node]) + \" ) {\")\n",
    "                        if left[node] != -1:\n",
    "                                recurse (left, right, threshold, features,left[node])\n",
    "                        print(\"} else {\")\n",
    "                        if right[node] != -1:\n",
    "                                recurse (left, right, threshold, features,right[node])\n",
    "                        print(\"}\")\n",
    "                else:\n",
    "                        print(\"return \" + str(value[node]))\n",
    "\n",
    "        recurse(left, right, threshold, features, 0)"
   ]
  },
  {
   "cell_type": "code",
   "execution_count": 32,
   "metadata": {},
   "outputs": [],
   "source": [
    "best_acc = 0\n",
    "for key, val in tree_dic.items():\n",
    "    clf = val[0]\n",
    "    pred = clf.predict(X_test)\n",
    "    test_score = accuracy_score(Y_test,pred)\n",
    "    if(test_score > best_acc):\n",
    "        best_n = key\n",
    "        best_acc = val[1]\n",
    "        best_clf = clf"
   ]
  },
  {
   "cell_type": "code",
   "execution_count": 35,
   "metadata": {},
   "outputs": [
    {
     "name": "stdout",
     "output_type": "stream",
     "text": [
      "500 0.7146401985111662\n"
     ]
    }
   ],
   "source": [
    "print(best_n, best_acc)"
   ]
  },
  {
   "cell_type": "code",
   "execution_count": 51,
   "metadata": {},
   "outputs": [
    {
     "name": "stdout",
     "output_type": "stream",
     "text": [
      "['X13', 'X21', 'X21']\n",
      "if ( X13 <= -0.06936800014227629 ) {\n",
      "return [[0. 2.]]\n",
      "} else {\n",
      "return [[1. 0.]]\n",
      "}\n"
     ]
    }
   ],
   "source": [
    "feature_names = X_test.columns\n",
    "get_rules(best_clf,feature_names)"
   ]
  },
  {
   "cell_type": "code",
   "execution_count": 52,
   "metadata": {},
   "outputs": [
    {
     "data": {
      "text/plain": [
       "array([0., 0., 0., 0., 0., 0., 0., 0., 0., 0., 0., 0., 1., 0., 0., 0., 0.,\n",
       "       0., 0., 0., 0., 0.])"
      ]
     },
     "execution_count": 52,
     "metadata": {},
     "output_type": "execute_result"
    }
   ],
   "source": [
    "best_clf.feature_importances_"
   ]
  },
  {
   "cell_type": "code",
   "execution_count": 48,
   "metadata": {},
   "outputs": [
    {
     "data": {
      "text/plain": [
       "array([12, -2, -2], dtype=int64)"
      ]
     },
     "execution_count": 48,
     "metadata": {},
     "output_type": "execute_result"
    }
   ],
   "source": [
    "tr.feature"
   ]
  }
 ],
 "metadata": {
  "kernelspec": {
   "display_name": "Python 3",
   "language": "python",
   "name": "python3"
  },
  "language_info": {
   "codemirror_mode": {
    "name": "ipython",
    "version": 3
   },
   "file_extension": ".py",
   "mimetype": "text/x-python",
   "name": "python",
   "nbconvert_exporter": "python",
   "pygments_lexer": "ipython3",
   "version": "3.7.3"
  }
 },
 "nbformat": 4,
 "nbformat_minor": 4
}
